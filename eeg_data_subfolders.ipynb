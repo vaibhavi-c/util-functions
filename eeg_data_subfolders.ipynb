{
  "nbformat": 4,
  "nbformat_minor": 0,
  "metadata": {
    "colab": {
      "provenance": [],
      "authorship_tag": "ABX9TyN3HVqCAq8le9+5qHjDCK3k",
      "include_colab_link": true
    },
    "kernelspec": {
      "name": "python3",
      "display_name": "Python 3"
    },
    "language_info": {
      "name": "python"
    }
  },
  "cells": [
    {
      "cell_type": "markdown",
      "metadata": {
        "id": "view-in-github",
        "colab_type": "text"
      },
      "source": [
        "<a href=\"https://colab.research.google.com/github/vaibhavi-c/util-functions/blob/main/eeg_data_subfolders.ipynb\" target=\"_parent\"><img src=\"https://colab.research.google.com/assets/colab-badge.svg\" alt=\"Open In Colab\"/></a>"
      ]
    },
    {
      "cell_type": "code",
      "execution_count": null,
      "metadata": {
        "id": "ROM88Hjvi1aX"
      },
      "outputs": [],
      "source": [
        "import os\n",
        "import shutil"
      ]
    },
    {
      "cell_type": "code",
      "source": [
        "# mounting google drive\n",
        "from google.colab import drive\n",
        "drive.mount('/content/drive')"
      ],
      "metadata": {
        "colab": {
          "base_uri": "https://localhost:8080/"
        },
        "id": "_431g-oWxT7J",
        "outputId": "2f7b494a-5118-4871-fba0-06002aa5bef7"
      },
      "execution_count": null,
      "outputs": [
        {
          "output_type": "stream",
          "name": "stdout",
          "text": [
            "Mounted at /content/drive\n"
          ]
        }
      ]
    },
    {
      "cell_type": "code",
      "source": [
        "\n",
        "drive_folder = \"/content/drive/MyDrive/Vaibs N Nuj/EEG_Driving/eeg_data/\"\n",
        "curr = os.getcwd()\n",
        "print(\"cwd: \",curr)"
      ],
      "metadata": {
        "colab": {
          "base_uri": "https://localhost:8080/"
        },
        "id": "FGsRipDF1mwA",
        "outputId": "52d692f9-5813-4705-ed9e-7d419e28c0fd"
      },
      "execution_count": null,
      "outputs": [
        {
          "output_type": "stream",
          "name": "stdout",
          "text": [
            "cwd:  /content\n"
          ]
        }
      ]
    },
    {
      "cell_type": "code",
      "source": [
        "os.chdir('/content/drive/MyDrive/Vaibs N Nuj/EEG_Driving/eeg_data/')\n",
        "print(\"cwd after:\", os.getcwd())"
      ],
      "metadata": {
        "colab": {
          "base_uri": "https://localhost:8080/"
        },
        "id": "jdUFWbhN7IMF",
        "outputId": "f504ab4c-7da2-4001-ff8e-47f4060ede86"
      },
      "execution_count": null,
      "outputs": [
        {
          "output_type": "stream",
          "name": "stdout",
          "text": [
            "cwd after: /content/drive/MyDrive/eeg_data\n"
          ]
        }
      ]
    },
    {
      "cell_type": "code",
      "source": [
        "os.getcwd()"
      ],
      "metadata": {
        "colab": {
          "base_uri": "https://localhost:8080/",
          "height": 35
        },
        "id": "gXoiJw3jl2Aa",
        "outputId": "ceeda374-2a33-4ea0-9de9-66ab82d430a9"
      },
      "execution_count": null,
      "outputs": [
        {
          "output_type": "execute_result",
          "data": {
            "text/plain": [
              "'/content/drive/MyDrive/eeg_data'"
            ],
            "application/vnd.google.colaboratory.intrinsic+json": {
              "type": "string"
            }
          },
          "metadata": {},
          "execution_count": 7
        }
      ]
    },
    {
      "cell_type": "code",
      "source": [
        "count = 0\n",
        "for root, dirs, files in os.walk(os.getcwd()):\n",
        "  print(\"root: \",root)\n",
        "  print(\"dirs: \",dirs)\n",
        "  print(\"files: \",files)\n",
        "  count+=1\n",
        "print(count)"
      ],
      "metadata": {
        "colab": {
          "base_uri": "https://localhost:8080/"
        },
        "id": "nahoc9eOULDj",
        "outputId": "c0095789-e6e0-4792-d108-9d1af5b0fddc"
      },
      "execution_count": null,
      "outputs": [
        {
          "output_type": "stream",
          "name": "stdout",
          "text": [
            "root:  /content/drive/MyDrive/eeg_data\n",
            "dirs:  ['s01_051017.set', 's01_060926_1n.set', 's01_060227n.set', 's01_060926_2n.set', 's02_050921m.set', 's01_061102n.set', 's02_051115m.set', 's04_051130m.set', 's05_051120m.set', 's05_060308n.set', 's05_061019m.set', 's05_061101n.set', 's49_080522n.set', 's35_070115m.set', 's31_061103n.set', 's31_061020m.set', 's23_060711_1m.set', 's22_091006m.set', 's22_090922m.set', 's22_090825n.set', 's22_080513m.set', 's14_060319n.set', 's14_060319m.set', 's54_081226m.set', 's53_090925m.set', 's53_090918n.set', 's53_081018n.set', 's52_081017n.set', 's50_080731m.set', 's50_080725n.set', 's49_080602m.set', 's49_080527n.set', 's48_080501n.set', 's45_070321n.set', 's45_070307n.set', 's44_070325n.set', 's44_070209m.set', 's44_070205n.set', 's44_070126m.set', 's43_070208n.set', 's43_070205n.set', 's43_070202m.set', 's42_070105n.set', 's42_061229n.set', 's41_091104n.set', 's41_090813m.set', 's41_080530n.set', 's41_080520m.set', 's41_061225n.set', 's40_070131m.set', 's40_070124n.set', 's35_070322n.set', 's13_060217m.set', 's13_060213m.set', 's12_060710_2m.set', 's12_060710_1m.set', 's11_060920_1n.set', 's09_060720_1n.set', 's09_060317n.set', 's09_060313n.set', 's06_051119m.set', 's55_090930n.set']\n",
            "files:  []\n",
            "root:  /content/drive/MyDrive/eeg_data/s01_051017.set\n",
            "dirs:  []\n",
            "files:  ['s01_051017m.fdt', 's01_051017m.set']\n",
            "root:  /content/drive/MyDrive/eeg_data/s01_060926_1n.set\n",
            "dirs:  []\n",
            "files:  ['s01_060926_1n.fdt', 's01_060926_1n.set']\n",
            "root:  /content/drive/MyDrive/eeg_data/s01_060227n.set\n",
            "dirs:  []\n",
            "files:  ['s01_060227n.fdt', 's01_060227n.set']\n",
            "root:  /content/drive/MyDrive/eeg_data/s01_060926_2n.set\n",
            "dirs:  []\n",
            "files:  ['s01_060926_2n.fdt', 's01_060926_2n.set']\n",
            "root:  /content/drive/MyDrive/eeg_data/s02_050921m.set\n",
            "dirs:  []\n",
            "files:  ['s02_050921m.set', 's02_050921m.fdt']\n",
            "root:  /content/drive/MyDrive/eeg_data/s01_061102n.set\n",
            "dirs:  []\n",
            "files:  ['s01_061102n.set', 's01_061102n.fdt']\n",
            "root:  /content/drive/MyDrive/eeg_data/s02_051115m.set\n",
            "dirs:  []\n",
            "files:  ['s02_051115m.fdt', 's02_051115m.set']\n",
            "root:  /content/drive/MyDrive/eeg_data/s04_051130m.set\n",
            "dirs:  []\n",
            "files:  ['s04_051130m.set', 's04_051130m.fdt']\n",
            "root:  /content/drive/MyDrive/eeg_data/s05_051120m.set\n",
            "dirs:  []\n",
            "files:  ['s05_051120m.set', 's05_051120m.fdt']\n",
            "root:  /content/drive/MyDrive/eeg_data/s05_060308n.set\n",
            "dirs:  []\n",
            "files:  ['s05_060308n.fdt', 's05_060308n.set']\n",
            "root:  /content/drive/MyDrive/eeg_data/s05_061019m.set\n",
            "dirs:  []\n",
            "files:  ['s05_061019m.fdt', 's05_061019m.set']\n",
            "root:  /content/drive/MyDrive/eeg_data/s05_061101n.set\n",
            "dirs:  []\n",
            "files:  ['s05_061101n.set', 's05_061101n.fdt']\n",
            "root:  /content/drive/MyDrive/eeg_data/s49_080522n.set\n",
            "dirs:  []\n",
            "files:  ['s49_080522n.fdt', 's49_080522n.set']\n",
            "root:  /content/drive/MyDrive/eeg_data/s35_070115m.set\n",
            "dirs:  []\n",
            "files:  ['s35_070115m.fdt', 's35_070115m.set']\n",
            "root:  /content/drive/MyDrive/eeg_data/s31_061103n.set\n",
            "dirs:  []\n",
            "files:  ['s31_061103n.fdt', 's31_061103n.set']\n",
            "root:  /content/drive/MyDrive/eeg_data/s31_061020m.set\n",
            "dirs:  []\n",
            "files:  ['s31_061020m.set', 's31_061020m.fdt']\n",
            "root:  /content/drive/MyDrive/eeg_data/s23_060711_1m.set\n",
            "dirs:  []\n",
            "files:  ['s23_060711_1m.fdt', 's23_060711_1m.set']\n",
            "root:  /content/drive/MyDrive/eeg_data/s22_091006m.set\n",
            "dirs:  []\n",
            "files:  ['s22_091006m.set', 's22_091006m.fdt']\n",
            "root:  /content/drive/MyDrive/eeg_data/s22_090922m.set\n",
            "dirs:  []\n",
            "files:  ['s22_090922m.fdt', 's22_090922m.set']\n",
            "root:  /content/drive/MyDrive/eeg_data/s22_090825n.set\n",
            "dirs:  []\n",
            "files:  ['s22_090825n.fdt', 's22_090825n.set']\n",
            "root:  /content/drive/MyDrive/eeg_data/s22_080513m.set\n",
            "dirs:  []\n",
            "files:  ['s22_080513m.set', 's22_080513m.fdt']\n",
            "root:  /content/drive/MyDrive/eeg_data/s14_060319n.set\n",
            "dirs:  []\n",
            "files:  ['s14_060319n.fdt', 's14_060319n.set']\n",
            "root:  /content/drive/MyDrive/eeg_data/s14_060319m.set\n",
            "dirs:  []\n",
            "files:  ['s14_060319m.set', 's14_060319m.fdt']\n",
            "root:  /content/drive/MyDrive/eeg_data/s54_081226m.set\n",
            "dirs:  []\n",
            "files:  ['s54_081226m.set', 's54_081226m.fdt']\n",
            "root:  /content/drive/MyDrive/eeg_data/s53_090925m.set\n",
            "dirs:  []\n",
            "files:  ['s53_090925m.set', 's53_090925m.fdt']\n",
            "root:  /content/drive/MyDrive/eeg_data/s53_090918n.set\n",
            "dirs:  []\n",
            "files:  ['s53_090918n.fdt', 's53_090918n.set']\n",
            "root:  /content/drive/MyDrive/eeg_data/s53_081018n.set\n",
            "dirs:  []\n",
            "files:  ['s53_081018n.set', 's53_081018n.fdt']\n",
            "root:  /content/drive/MyDrive/eeg_data/s52_081017n.set\n",
            "dirs:  []\n",
            "files:  ['s52_081017n.set', 's52_081017n.fdt']\n",
            "root:  /content/drive/MyDrive/eeg_data/s50_080731m.set\n",
            "dirs:  []\n",
            "files:  ['s50_080731m.fdt', 's50_080731m.set']\n",
            "root:  /content/drive/MyDrive/eeg_data/s50_080725n.set\n",
            "dirs:  []\n",
            "files:  ['s50_080725n.set', 's50_080725n.fdt']\n",
            "root:  /content/drive/MyDrive/eeg_data/s49_080602m.set\n",
            "dirs:  []\n",
            "files:  ['s49_080602m.fdt', 's49_080602m.set']\n",
            "root:  /content/drive/MyDrive/eeg_data/s49_080527n.set\n",
            "dirs:  []\n",
            "files:  ['s49_080527n.fdt', 's49_080527n.set']\n",
            "root:  /content/drive/MyDrive/eeg_data/s48_080501n.set\n",
            "dirs:  []\n",
            "files:  []\n",
            "root:  /content/drive/MyDrive/eeg_data/s45_070321n.set\n",
            "dirs:  []\n",
            "files:  ['s45_070321n.fdt', 's45_070321n.set']\n",
            "root:  /content/drive/MyDrive/eeg_data/s45_070307n.set\n",
            "dirs:  []\n",
            "files:  ['s45_070307n.set', 's45_070307n.fdt']\n",
            "root:  /content/drive/MyDrive/eeg_data/s44_070325n.set\n",
            "dirs:  []\n",
            "files:  ['s44_070325n.fdt', 's44_070325n.set']\n",
            "root:  /content/drive/MyDrive/eeg_data/s44_070209m.set\n",
            "dirs:  []\n",
            "files:  ['s44_070209m.set', 's44_070209m.fdt']\n",
            "root:  /content/drive/MyDrive/eeg_data/s44_070205n.set\n",
            "dirs:  []\n",
            "files:  ['s44_070205n.set', 's44_070205n.fdt']\n",
            "root:  /content/drive/MyDrive/eeg_data/s44_070126m.set\n",
            "dirs:  []\n",
            "files:  ['s44_070126m.set', 's44_070126m.fdt']\n",
            "root:  /content/drive/MyDrive/eeg_data/s43_070208n.set\n",
            "dirs:  []\n",
            "files:  ['s43_070208n.set', 's43_070208n.fdt']\n",
            "root:  /content/drive/MyDrive/eeg_data/s43_070205n.set\n",
            "dirs:  []\n",
            "files:  ['s43_070205n.set', 's43_070205n.fdt']\n",
            "root:  /content/drive/MyDrive/eeg_data/s43_070202m.set\n",
            "dirs:  []\n",
            "files:  ['s43_070202m.fdt', 's43_070202m.set']\n",
            "root:  /content/drive/MyDrive/eeg_data/s42_070105n.set\n",
            "dirs:  []\n",
            "files:  ['s42_070105n.set', 's42_070105n.fdt']\n",
            "root:  /content/drive/MyDrive/eeg_data/s42_061229n.set\n",
            "dirs:  []\n",
            "files:  ['s42_061229n.set', 's42_061229n.fdt']\n",
            "root:  /content/drive/MyDrive/eeg_data/s41_091104n.set\n",
            "dirs:  []\n",
            "files:  ['s41_091104n.set', 's41_091104n.fdt']\n",
            "root:  /content/drive/MyDrive/eeg_data/s41_090813m.set\n",
            "dirs:  []\n",
            "files:  ['s41_090813m.set', 's41_090813m.fdt']\n",
            "root:  /content/drive/MyDrive/eeg_data/s41_080530n.set\n",
            "dirs:  []\n",
            "files:  ['s41_080530n.set', 's41_080530n.fdt']\n",
            "root:  /content/drive/MyDrive/eeg_data/s41_080520m.set\n",
            "dirs:  []\n",
            "files:  ['s41_080520m.set', 's41_080520m.fdt']\n",
            "root:  /content/drive/MyDrive/eeg_data/s41_061225n.set\n",
            "dirs:  []\n",
            "files:  ['s41_061225n.fdt', 's41_061225n.set']\n",
            "root:  /content/drive/MyDrive/eeg_data/s40_070131m.set\n",
            "dirs:  []\n",
            "files:  ['s40_070131m.fdt', 's40_070131m.set']\n",
            "root:  /content/drive/MyDrive/eeg_data/s40_070124n.set\n",
            "dirs:  []\n",
            "files:  ['s40_070124n.fdt', 's40_070124n.set']\n",
            "root:  /content/drive/MyDrive/eeg_data/s35_070322n.set\n",
            "dirs:  []\n",
            "files:  ['s35_070322n.set', 's35_070322n.fdt']\n",
            "root:  /content/drive/MyDrive/eeg_data/s13_060217m.set\n",
            "dirs:  []\n",
            "files:  ['s13_060217m.fdt', 's13_060217m.set']\n",
            "root:  /content/drive/MyDrive/eeg_data/s13_060213m.set\n",
            "dirs:  []\n",
            "files:  ['s13_060213m.fdt', 's13_060213m.set']\n",
            "root:  /content/drive/MyDrive/eeg_data/s12_060710_2m.set\n",
            "dirs:  []\n",
            "files:  ['s12_060710_2m.fdt', 's12_060710_2m.set']\n",
            "root:  /content/drive/MyDrive/eeg_data/s12_060710_1m.set\n",
            "dirs:  []\n",
            "files:  ['s12_060710_1m.fdt', 's12_060710_1m.set']\n",
            "root:  /content/drive/MyDrive/eeg_data/s11_060920_1n.set\n",
            "dirs:  []\n",
            "files:  ['s11_060920_1n.fdt', 's11_060920_1n.set']\n",
            "root:  /content/drive/MyDrive/eeg_data/s09_060720_1n.set\n",
            "dirs:  []\n",
            "files:  ['s09_060720_1n.set', 's09_060720_1n.fdt']\n",
            "root:  /content/drive/MyDrive/eeg_data/s09_060317n.set\n",
            "dirs:  []\n",
            "files:  ['s09_060317n.set', 's09_060317n.fdt']\n",
            "root:  /content/drive/MyDrive/eeg_data/s09_060313n.set\n",
            "dirs:  []\n",
            "files:  ['s09_060313n.set', 's09_060313n.fdt']\n",
            "root:  /content/drive/MyDrive/eeg_data/s06_051119m.set\n",
            "dirs:  []\n",
            "files:  ['s06_051119m.set', 's06_051119m.fdt']\n",
            "root:  /content/drive/MyDrive/eeg_data/s55_090930n.set\n",
            "dirs:  []\n",
            "files:  ['s55_090930n.set', 's55_090930n.fdt']\n",
            "63\n"
          ]
        }
      ]
    },
    {
      "cell_type": "code",
      "source": [
        "# # uncomment to run\n",
        "\n",
        "# # Walk through the directory tree\n",
        "# for root, dirs, files in os.walk(os.getcwd()):\n",
        "#   if(root == os.getcwd()):\n",
        "\n",
        "#     for file in files:\n",
        "\n",
        "#       # Get the file path\n",
        "#       file_path = os.path.join(root, file)\n",
        "#       old_name = file_path\n",
        "#       # print(\"file_path: \",file_path)\n",
        "\n",
        "#       # Get the base name of the file\n",
        "#       base_name = os.path.basename(file_path)\n",
        "#       # print(\"base_name: \",base_name)\n",
        "\n",
        "#       # new file path\n",
        "#       new_file_path = file_path+\"_temp\"\n",
        "#       # print(new_file_path)\n",
        "\n",
        "#       # rename file\n",
        "#       os.rename(file_path, new_file_path)\n",
        "\n",
        "#       # # create subfolder with file name\n",
        "#       if not os.path.exists(file_path):\n",
        "#           os.makedirs(file_path)\n",
        "\n",
        "#       # # move file\n",
        "#       shutil.move(new_file_path, file_path)\n",
        "\n",
        "#       # rename file back\n",
        "#       new_name = os.path.join(file_path,base_name)\n",
        "#       old_name = os.path.join(file_path,base_name+\"_temp\")\n",
        "#       os.rename(old_name, new_name)\n",
        "\n",
        "#       # print(\"old_name: \",old_name)\n",
        "#       # print(\"new_name: \",new_name)\n",
        "\n"
      ],
      "metadata": {
        "id": "9uoOSMMqEaQ1"
      },
      "execution_count": null,
      "outputs": []
    }
  ]
}