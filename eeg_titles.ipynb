{
  "nbformat": 4,
  "nbformat_minor": 0,
  "metadata": {
    "colab": {
      "provenance": [],
      "authorship_tag": "ABX9TyNrkGudtSYzxfyP8Z4uZrUN",
      "include_colab_link": true
    },
    "kernelspec": {
      "name": "python3",
      "display_name": "Python 3"
    },
    "language_info": {
      "name": "python"
    }
  },
  "cells": [
    {
      "cell_type": "markdown",
      "metadata": {
        "id": "view-in-github",
        "colab_type": "text"
      },
      "source": [
        "<a href=\"https://colab.research.google.com/github/vaibhavi-c/util-functions/blob/main/eeg_titles.ipynb\" target=\"_parent\"><img src=\"https://colab.research.google.com/assets/colab-badge.svg\" alt=\"Open In Colab\"/></a>"
      ]
    },
    {
      "cell_type": "code",
      "execution_count": null,
      "metadata": {
        "id": "5RrxNcCeErfh"
      },
      "outputs": [],
      "source": [
        "import requests\n",
        "from bs4 import BeautifulSoup"
      ]
    },
    {
      "cell_type": "code",
      "source": [
        "URL = [\"https://link.springer.com/search?new-search=true&query=dementia+detection+eeg+deep+learning&content-type=ConferencePaper&language=En&facet-discipline=%22Engineering%22&&facet-discipline=%22Computer+Science%22&&facet-discipline=%22Biomedicine%22&&facet-discipline=%22Medicine+%26+Public+Health%22&date=custom&dateFrom=2019&dateTo=2024&sortBy=relevance&page=1\",\n",
        "       \"https://link.springer.com/search?new-search=true&query=dementia+detection+eeg+deep+learning&content-type=ConferencePaper&language=En&facet-discipline=%22Engineering%22&&facet-discipline=%22Computer+Science%22&&facet-discipline=%22Biomedicine%22&&facet-discipline=%22Medicine+%26+Public+Health%22&date=custom&dateFrom=2019&dateTo=2024&sortBy=relevance&page=2\",\n",
        "       \"https://link.springer.com/search?new-search=true&query=dementia+detection+eeg+deep+learning&content-type=ConferencePaper&language=En&facet-discipline=%22Engineering%22&&facet-discipline=%22Computer+Science%22&&facet-discipline=%22Biomedicine%22&&facet-discipline=%22Medicine+%26+Public+Health%22&date=custom&dateFrom=2019&dateTo=2024&sortBy=relevance&page=3\",\n",
        "       \"https://link.springer.com/search?new-search=true&query=dementia+detection+eeg+deep+learning&content-type=ConferencePaper&language=En&facet-discipline=%22Engineering%22&&facet-discipline=%22Computer+Science%22&&facet-discipline=%22Biomedicine%22&&facet-discipline=%22Medicine+%26+Public+Health%22&date=custom&dateFrom=2019&dateTo=2024&sortBy=relevance&page=4\"]\n"
      ],
      "metadata": {
        "id": "JgBXid0hEsN-"
      },
      "execution_count": null,
      "outputs": []
    },
    {
      "cell_type": "code",
      "source": [
        "# table = soup.find_all('h3', attrs = {'data-test':'title'})"
      ],
      "metadata": {
        "id": "uUJXwHHrFGz7"
      },
      "execution_count": null,
      "outputs": []
    },
    {
      "cell_type": "code",
      "source": [
        "# table\n"
      ],
      "metadata": {
        "id": "XEpFs4jNGLnz"
      },
      "execution_count": null,
      "outputs": []
    },
    {
      "cell_type": "code",
      "source": [
        "import pandas as pd"
      ],
      "metadata": {
        "id": "RML3BGJvJbk_"
      },
      "execution_count": null,
      "outputs": []
    },
    {
      "cell_type": "code",
      "source": [
        "i = 0\n",
        "title = {}\n",
        "# for j in range(4):\n",
        "j = 2\n",
        "r = requests.get(URL[j])\n",
        "\n",
        "soup = BeautifulSoup(r.content, 'html5lib') # If this line causes an error, run 'pip install html5lib' or install html5lib\n",
        "for row in soup.find_all('h3', attrs = {'data-test':\"title\"}):\n",
        "  t = row.find('span')\n",
        "  title[i] = t.text\n",
        "  i+=1\n",
        "print(title)"
      ],
      "metadata": {
        "colab": {
          "base_uri": "https://localhost:8080/"
        },
        "id": "DWdxrn_cHOb_",
        "outputId": "71c53f5c-196c-4032-bd7e-7a708af4c45d"
      },
      "execution_count": null,
      "outputs": [
        {
          "output_type": "stream",
          "name": "stdout",
          "text": [
            "{0: 'REM Sleep Stage Detection of Parkinson’s Disease Patients with RBD', 1: 'Noninvasive Detection of Alzheimer’s Disease from Conversational Speech Using 1D-CNN', 2: 'Alzheimer’s Disease Diagnosis Using Structural MRI and Machine Learning Techniques', 3: 'Alzheimer’s Disease Prediction Using EfficientNet and Fastai', 4: 'A Stack Ensemble Approach for Early Alzheimer Classification Using Machine Learning Algorithms', 5: 'Human Identification by Dynamics of Changes in Brain Frequencies Using Artificial Neural Networks', 6: 'Alzheimer Disease Prediction Using Learning Algorithms', 7: 'Empirical Analysis of Magnetic Resonance Imaging-Based Brain Disease Analysis Systems: A Statistical Perspective', 8: 'Brain Computer Interface for Stroke Psychotherapy: Intonation of Cortical High-Strung', 9: '2D SDNN Model for Alzheimer’s Disease Classification Using Neuroimaging Modality', 10: 'Detection of EMCI in Alzheimer’s Disease Using Lenet-5 and Faster RCNN Algorithm', 11: 'Decoding Olfactory Cognition: EEG Functional Modularity Analysis Reveals Differences in Perception of Positively-Valenced Stimuli', 12: 'Efficient Diagnosis of Alzheimer’s Disease Using EfficientNet in Neuroimaging', 13: 'Evolving Chaotic Shuffled Frog Leaping Memetic Metaheuristic Model-Based Feature Subset Selection for Alzheimer’s Disease Detection', 14: 'Attention Guided Human Fall Detection for Elderly Patient Monitoring', 15: 'Analysis of Computational Intelligence Techniques in Smart Cities', 16: 'Mobile Cloud-Based Framework for Health Monitoring with Real-Time Analysis Using Machine Learning Algorithms', 17: 'Trends and Features of Human Brain Research Using Artificial Intelligence Techniques: A Bibliometric Approach', 18: 'Automatic Assistance to Cognitive Disabled Web Users via Reinforcement Learning on the Browser', 19: 'Brain Computer Interface in Neurology: The Future of Neurorestoration, the Possibilities and Perils. A Narrative Review'}\n"
          ]
        }
      ]
    },
    {
      "cell_type": "code",
      "source": [
        "title_pd3 = pd.DataFrame(title.values(), columns=['title'])\n",
        "print(title_pd3)"
      ],
      "metadata": {
        "colab": {
          "base_uri": "https://localhost:8080/"
        },
        "id": "RvzYFGjQMtxI",
        "outputId": "b3b3d627-3a3a-4ee9-eafe-0d3a286f6116"
      },
      "execution_count": null,
      "outputs": [
        {
          "output_type": "stream",
          "name": "stdout",
          "text": [
            "                                                title\n",
            "0   REM Sleep Stage Detection of Parkinson’s Disea...\n",
            "1   Noninvasive Detection of Alzheimer’s Disease f...\n",
            "2   Alzheimer’s Disease Diagnosis Using Structural...\n",
            "3   Alzheimer’s Disease Prediction Using Efficient...\n",
            "4   A Stack Ensemble Approach for Early Alzheimer ...\n",
            "5   Human Identification by Dynamics of Changes in...\n",
            "6   Alzheimer Disease Prediction Using Learning Al...\n",
            "7   Empirical Analysis of Magnetic Resonance Imagi...\n",
            "8   Brain Computer Interface for Stroke Psychother...\n",
            "9   2D SDNN Model for Alzheimer’s Disease Classifi...\n",
            "10  Detection of EMCI in Alzheimer’s Disease Using...\n",
            "11  Decoding Olfactory Cognition: EEG Functional M...\n",
            "12  Efficient Diagnosis of Alzheimer’s Disease Usi...\n",
            "13  Evolving Chaotic Shuffled Frog Leaping Memetic...\n",
            "14  Attention Guided Human Fall Detection for Elde...\n",
            "15  Analysis of Computational Intelligence Techniq...\n",
            "16  Mobile Cloud-Based Framework for Health Monito...\n",
            "17  Trends and Features of Human Brain Research Us...\n",
            "18  Automatic Assistance to Cognitive Disabled Web...\n",
            "19  Brain Computer Interface in Neurology: The Fut...\n"
          ]
        }
      ]
    },
    {
      "cell_type": "code",
      "source": [
        "title_pd3.to_csv('titles3.csv')"
      ],
      "metadata": {
        "id": "U1cLTlfCM0Cs"
      },
      "execution_count": null,
      "outputs": []
    },
    {
      "cell_type": "code",
      "source": [
        "title_pd = pd.DataFrame(title.values(), columns=['title'])\n",
        "print(title_pd)\n",
        "# title_pd.to_csv('titles.csv')"
      ],
      "metadata": {
        "colab": {
          "base_uri": "https://localhost:8080/"
        },
        "id": "E6eQt2B0Jk3Y",
        "outputId": "afceafda-e74e-4df1-e4ec-e8ca935b3306"
      },
      "execution_count": null,
      "outputs": [
        {
          "output_type": "stream",
          "name": "stdout",
          "text": [
            "                                                title\n",
            "0   EEG Signal and Deep Learning Approach in Evalu...\n",
            "1   Developing a Deep Learning Based Approach for ...\n",
            "2   Early Detection of Alzheimer’s Disease with EE...\n",
            "3   Epileptic Seizure Detection Using Deep Learnin...\n",
            "4   Critical Evaluation of Different Biomarkers an...\n",
            "..                                                ...\n",
            "73  CNN-Based Handwriting Analysis for the Predict...\n",
            "74              6G-Enabled Internet of Medical Things\n",
            "75  Rescuing Relevant Features from Active Aging S...\n",
            "76  A Multi-Modal Dataset (MMSD) for Acute Stress ...\n",
            "77     EMG Signals as a Way to Control Soft Actuators\n",
            "\n",
            "[78 rows x 1 columns]\n"
          ]
        }
      ]
    },
    {
      "cell_type": "code",
      "source": [
        "title_pd.to_csv('titles.csv')"
      ],
      "metadata": {
        "id": "7Cb2Yz9XLjRV"
      },
      "execution_count": null,
      "outputs": []
    }
  ]
}